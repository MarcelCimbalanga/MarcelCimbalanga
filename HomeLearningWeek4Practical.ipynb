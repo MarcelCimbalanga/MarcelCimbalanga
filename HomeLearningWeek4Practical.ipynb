{
 "cells": [
  {
   "cell_type": "code",
   "execution_count": null,
   "source": [
    "#Practical\r\n",
    "#1 number of rows & columns\r\n",
    "\r\n",
    "import pandas as pd\r\n",
    "data = pd.read_csv(\"holiday_destination.csv\")\r\n",
    "data.shape\r\n",
    "\r\n",
    "#holiday_destination.csv data set has 15 rows and 5 columns\r\n"
   ],
   "outputs": [],
   "metadata": {}
  },
  {
   "cell_type": "code",
   "execution_count": null,
   "source": [
    "#2 printing row 3 - 8\r\n",
    "\r\n",
    "import pandas as pd\r\n",
    "data = pd.read_csv(\"holiday_destination.csv\")\r\n",
    "data.iloc[2:8]\r\n",
    "\r\n"
   ],
   "outputs": [],
   "metadata": {}
  },
  {
   "cell_type": "code",
   "execution_count": null,
   "source": [
    "#3 all_inclusive hotels mean number\r\n",
    "\r\n",
    "import pandas as pd\r\n",
    "data = pd.read_csv(\"holiday_destination.csv\")\r\n",
    "data[\"All-Inclusive Hotels\"].mean()"
   ],
   "outputs": [],
   "metadata": {}
  },
  {
   "cell_type": "code",
   "execution_count": 53,
   "source": [
    "#4 lowest scoring destination\r\n",
    "\r\n",
    "import pandas as pd\r\n",
    "data = pd.read_csv(\"holiday_destination.csv\")\r\n",
    "myfilter = data[\"Feedback\"] < 6\r\n",
    "myfilter\r\n",
    "lowscore = data[myfilter]\r\n",
    "lowscore.head()\r\n"
   ],
   "outputs": [
    {
     "output_type": "execute_result",
     "data": {
      "text/plain": [
       "   Destinatiion  Feedback  Hotel Rating  All-Inclusive Hotels  \\\n",
       "7        Turkey         5             2                     8   \n",
       "8         Italy         5             4                    10   \n",
       "9           DRC         5             2                     5   \n",
       "\n",
       "  Most visited City  \n",
       "7          Istanbul  \n",
       "8              Rome  \n",
       "9              Goma  "
      ],
      "text/html": [
       "<div>\n",
       "<style scoped>\n",
       "    .dataframe tbody tr th:only-of-type {\n",
       "        vertical-align: middle;\n",
       "    }\n",
       "\n",
       "    .dataframe tbody tr th {\n",
       "        vertical-align: top;\n",
       "    }\n",
       "\n",
       "    .dataframe thead th {\n",
       "        text-align: right;\n",
       "    }\n",
       "</style>\n",
       "<table border=\"1\" class=\"dataframe\">\n",
       "  <thead>\n",
       "    <tr style=\"text-align: right;\">\n",
       "      <th></th>\n",
       "      <th>Destinatiion</th>\n",
       "      <th>Feedback</th>\n",
       "      <th>Hotel Rating</th>\n",
       "      <th>All-Inclusive Hotels</th>\n",
       "      <th>Most visited City</th>\n",
       "    </tr>\n",
       "  </thead>\n",
       "  <tbody>\n",
       "    <tr>\n",
       "      <th>7</th>\n",
       "      <td>Turkey</td>\n",
       "      <td>5</td>\n",
       "      <td>2</td>\n",
       "      <td>8</td>\n",
       "      <td>Istanbul</td>\n",
       "    </tr>\n",
       "    <tr>\n",
       "      <th>8</th>\n",
       "      <td>Italy</td>\n",
       "      <td>5</td>\n",
       "      <td>4</td>\n",
       "      <td>10</td>\n",
       "      <td>Rome</td>\n",
       "    </tr>\n",
       "    <tr>\n",
       "      <th>9</th>\n",
       "      <td>DRC</td>\n",
       "      <td>5</td>\n",
       "      <td>2</td>\n",
       "      <td>5</td>\n",
       "      <td>Goma</td>\n",
       "    </tr>\n",
       "  </tbody>\n",
       "</table>\n",
       "</div>"
      ]
     },
     "metadata": {},
     "execution_count": 53
    }
   ],
   "metadata": {}
  },
  {
   "cell_type": "code",
   "execution_count": null,
   "source": [
    "#5 highest scoring destination\r\n",
    "\r\n",
    "import pandas as pd\r\n",
    "data = pd.read_csv(\"holiday_destination.csv\")\r\n",
    "myfilter = data[\"Feedback\"] > 5\r\n",
    "myfilter\r\n",
    "highscore = data[myfilter]\r\n",
    "highscore\r\n"
   ],
   "outputs": [],
   "metadata": {}
  },
  {
   "cell_type": "code",
   "execution_count": null,
   "source": [
    "#6 destinations with more than 9 all-inclusive hotels\r\n",
    "\r\n",
    "import pandas as pd\r\n",
    "data = pd.read_csv(\"holiday_destination.csv\")\r\n",
    "myfilter = data[\"All-Inclusive Hotels\"] > 9\r\n",
    "myfilter\r\n",
    "hotels = data[myfilter]\r\n",
    "hotels"
   ],
   "outputs": [],
   "metadata": {}
  },
  {
   "cell_type": "code",
   "execution_count": null,
   "source": [
    "#7 score above 8\r\n",
    "\r\n",
    "import pandas as pd\r\n",
    "data = pd.read_csv(\"holiday_destination.csv\")\r\n",
    "myfilter = data[\"Feedback\"] > 8\r\n",
    "myfilter\r\n",
    "score = data[myfilter]\r\n",
    "score\r\n",
    "\r\n",
    "# No destination has score above 8"
   ],
   "outputs": [],
   "metadata": {}
  },
  {
   "cell_type": "code",
   "execution_count": null,
   "source": [
    "# score below 2\r\n",
    "\r\n",
    "import pandas as pd\r\n",
    "data = pd.read_csv(\"holiday_destination.csv\")\r\n",
    "myfilter = data[\"Feedback\"] < 2\r\n",
    "myfilter\r\n",
    "score = data[myfilter]\r\n",
    "score\r\n",
    "\r\n",
    "# No destination has score below 2"
   ],
   "outputs": [],
   "metadata": {}
  },
  {
   "cell_type": "code",
   "execution_count": 54,
   "source": [
    "# Extension 1 correlation between all-inclusive hotels and score\r\n",
    "\r\n",
    "import pandas as pd\r\n",
    "data = pd.read_csv(\"holiday_destination.csv\")\r\n",
    "data[\"All-Inclusive Hotels\"].corr(data[\"Feedback\"])\r\n",
    "\r\n",
    "# There is a strong positive correlation between all-inclusive hotels and score"
   ],
   "outputs": [
    {
     "output_type": "execute_result",
     "data": {
      "text/plain": [
       "0.7892957509685359"
      ]
     },
     "metadata": {},
     "execution_count": 54
    }
   ],
   "metadata": {}
  },
  {
   "cell_type": "code",
   "execution_count": null,
   "source": [
    "# Extension 2 \r\n"
   ],
   "outputs": [],
   "metadata": {}
  }
 ],
 "metadata": {
  "language_info": {
   "name": "python",
   "version": "3.9.6",
   "mimetype": "text/x-python",
   "codemirror_mode": {
    "name": "ipython",
    "version": 3
   },
   "pygments_lexer": "ipython3",
   "nbconvert_exporter": "python",
   "file_extension": ".py"
  },
  "kernelspec": {
   "name": "python3",
   "display_name": "Python 3.9.6 64-bit"
  },
  "interpreter": {
   "hash": "247ab06e135bb35fa78c5eff31b2a9a0050dcb5fb773c2631d2a29ac689eeccb"
  }
 },
 "nbformat": 4,
 "nbformat_minor": 5
}