{
 "metadata": {
  "language_info": {
   "codemirror_mode": {
    "name": "ipython",
    "version": 3
   },
   "file_extension": ".py",
   "mimetype": "text/x-python",
   "name": "python",
   "nbconvert_exporter": "python",
   "pygments_lexer": "ipython3",
   "version": "3.9.6"
  },
  "orig_nbformat": 4,
  "kernelspec": {
   "name": "python3",
   "display_name": "Python 3.9.6 64-bit"
  },
  "interpreter": {
   "hash": "247ab06e135bb35fa78c5eff31b2a9a0050dcb5fb773c2631d2a29ac689eeccb"
  }
 },
 "nbformat": 4,
 "nbformat_minor": 2,
 "cells": [
  {
   "cell_type": "code",
   "execution_count": null,
   "metadata": {},
   "outputs": [],
   "source": [
    "# Task 1\n",
    "import random\n",
    "user_name = input(\"Hello! What is your name? \")\n",
    "number - random.randint(1,10)\n",
    "print(\"Well,\" + name + \"I am thinking of a number between 1 and 10\")\n",
    "guess = int(input(\"Take a guess\"))\n",
    "\n",
    "if guess ==number:\n",
    "    print(\"Good job\", + name +\"! You guessed my number\")\n",
    "else:\n",
    "    print(\"Wrong, better luck next next time\")    "
   ]
  },
  {
   "cell_type": "code",
   "execution_count": null,
   "metadata": {},
   "outputs": [],
   "source": [
    "# Task 2\n",
    "step_one = int(input(\"Enter your favourite between 1 and 100:\"))\n",
    "if step_one <= 100:\n",
    "    print(\"You are a legend!\")\n",
    "else:\n",
    "    print(\"Your number is not on the list\")\n",
    "\n",
    "step_two = int(input(\"Enter your favourite number again:\"))\n",
    "if step_two == step_one:\n",
    "    print(\"You are very lucky!\")\n",
    "else:\n",
    "    print(\"Enter the same number!\")\n",
    "\n",
    "step_three = int(input(\"Enter your favourite number one more time: \"))\n",
    "if step_three == step_one:\n",
    "    print(\"You are a legend!\")\n",
    "else:\n",
    "    print(\"Enter the same number\")"
   ]
  },
  {
   "cell_type": "code",
   "execution_count": null,
   "metadata": {},
   "outputs": [],
   "source": [
    "# Task 3\n",
    "starter = input(\"Enter your starter:\")\n",
    "main_course = input(\"Enter your main course:\")\n",
    "dessert = input(\"Enter your dessert: \")\n",
    "drink = input(\"Enter your drink: \")\n",
    "print(\"Your favourite meal is \" + starter + main_course + (\" With a glass of drink\"))\n"
   ]
  },
  {
   "cell_type": "code",
   "execution_count": null,
   "metadata": {},
   "outputs": [],
   "source": [
    "# Task 4\n",
    "c = 2000\n",
    "while c >= 1000:\n",
    "    print(c)\n",
    "    c -= c * 0.1\n",
    "print(\"Done with loop\")\n"
   ]
  },
  {
   "cell_type": "code",
   "execution_count": null,
   "metadata": {},
   "outputs": [],
   "source": [
    "# Tas 5\n",
    "num1 = float(input(\"Enetr first number:\"))\n",
    "num2 = float(input(\"Enetr second number:\"))\n",
    "op = input(\"Enter an operator:\")\n",
    "if op ==\"+\":\n",
    "    print(num1+num2)\n",
    "elif op ==\"-\":\n",
    "    print(num1-num2)\n",
    "elif op ==\"*\":\n",
    "    print(num1*num2)\n",
    "elif op ==\"/\":\n",
    "    print(num1/num2)\n",
    "elif op ==\"**\":\n",
    "    print(num1*num1)\n",
    "    print(num2*num2)\n",
    "\n",
    "else:\n",
    "    print(\"Invalid operator\")\n",
    "\n",
    "\n",
    "\n"
   ]
  }
 ]
}