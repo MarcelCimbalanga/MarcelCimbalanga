{
 "metadata": {
  "language_info": {
   "codemirror_mode": {
    "name": "ipython",
    "version": 3
   },
   "file_extension": ".py",
   "mimetype": "text/x-python",
   "name": "python",
   "nbconvert_exporter": "python",
   "pygments_lexer": "ipython3",
   "version": "3.9.6"
  },
  "orig_nbformat": 4,
  "kernelspec": {
   "name": "python3",
   "display_name": "Python 3.9.6 64-bit"
  },
  "interpreter": {
   "hash": "247ab06e135bb35fa78c5eff31b2a9a0050dcb5fb773c2631d2a29ac689eeccb"
  }
 },
 "nbformat": 4,
 "nbformat_minor": 2,
 "cells": [
  {
   "cell_type": "code",
   "execution_count": 3,
   "source": [
    "#Task 1\r\n",
    "\r\n",
    "my_file = open(\"numbers.text\", \"a\")\r\n",
    "my_file.write(\"\\n3,45,83,21\")\r\n",
    "my_file.close()"
   ],
   "outputs": [],
   "metadata": {}
  },
  {
   "cell_type": "code",
   "execution_count": 2,
   "source": [
    "#Task 2\r\n",
    "\r\n",
    "def mark_grade(percentage,exam_grade,target):\r\n",
    "    return grade\r\n",
    "Student_ID = int(input(\"Enter your ID: \"))\r\n",
    "percentage = int(input(\"Enter your percentage: \"))\r\n",
    "target = int(input(\"Enter target: \"))\r\n",
    "\r\n",
    "if percentage < 39:\r\n",
    "    print(\"You got an F \")\r\n",
    "elif 39 < percentage < 50:\r\n",
    "    print(\"You got an E\")\r\n",
    "elif 50 <= percentage < 60:\r\n",
    "    print(\"You got a D\")\r\n",
    "elif 60 <= percentage <70:\r\n",
    "    print(\"You got a C \")\r\n",
    "elif 70 <= percentage < 80:\r\n",
    "    print(\"You got a B\")\r\n",
    "else:\r\n",
    "    print(\"You got an A\")\r\n",
    "\r\n",
    "if target < percentage:\r\n",
    "    print(\"Congratulations you did a great job! \")\r\n",
    "elif target == percentage:\r\n",
    "    print(\"Well done you got it! \")\r\n",
    "else:\r\n",
    "    print(\"You can do better next time!\")"
   ],
   "outputs": [
    {
     "output_type": "stream",
     "name": "stdout",
     "text": [
      "You got an F \n",
      "You can do better next time!\n"
     ]
    }
   ],
   "metadata": {}
  }
 ]
}